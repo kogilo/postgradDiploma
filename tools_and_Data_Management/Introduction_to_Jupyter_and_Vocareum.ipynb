{
 "cells": [
  {
   "cell_type": "markdown",
   "metadata": {
    "deletable": false,
    "editable": false,
    "nbgrader": {
     "grade": false,
     "locked": true,
     "solution": false
    }
   },
   "source": [
    "<a id = \"jupyter\"></a>\n",
    "### Introduction to Jupyter Notebook\n",
    "\n",
    "If you are reading this line, it hopefully means you have successfully opened up a `Jupyter Notebook`. If you are simply viewing this notebook and do not have a `Python 3` Kernel running and do not see something like this:\n",
    "![Kernel](./assets/Kernel.PNG)\n",
    "on the upper right corner of your screen, seek technical help!\n",
    "\n",
    "`Jupyter Notebook` offers plenty of functionality which can be extended with plug-ins and other modifications, but this lesson will only review the basic functionality.  \n",
    "\n",
    "\n",
    "First: what are we looking at? \n",
    "Below is an empty code cell"
   ]
  },
  {
   "cell_type": "code",
   "execution_count": null,
   "metadata": {
    "collapsed": true,
    "deletable": false,
    "editable": false,
    "nbgrader": {
     "grade": false,
     "locked": true,
     "solution": false
    }
   },
   "outputs": [],
   "source": []
  },
  {
   "cell_type": "markdown",
   "metadata": {
    "deletable": false,
    "editable": false,
    "nbgrader": {
     "grade": false,
     "locked": true,
     "solution": false
    }
   },
   "source": [
    "Note the `In [ ]` to its left: thats the clearest indication that a cell is ready to read and execute code.  \n",
    "\n",
    "*These* words, on the other hand, are appearing in a `markdown` cell. Below is an empty `markdown` cell, and below that is an empty `markdown` cell that has been executed."
   ]
  },
  {
   "cell_type": "markdown",
   "metadata": {
    "deletable": false,
    "editable": false,
    "nbgrader": {
     "grade": false,
     "locked": true,
     "solution": false
    }
   },
   "source": []
  },
  {
   "cell_type": "markdown",
   "metadata": {
    "deletable": false,
    "editable": false,
    "nbgrader": {
     "grade": false,
     "locked": true,
     "solution": false
    }
   },
   "source": []
  },
  {
   "cell_type": "raw",
   "metadata": {},
   "source": []
  },
  {
   "cell_type": "markdown",
   "metadata": {
    "deletable": false,
    "editable": false,
    "nbgrader": {
     "grade": false,
     "locked": true,
     "solution": false
    }
   },
   "source": [
    "`Markdown` cells can be used to integrate text, figures, etc. into your code. It is also possible to use `LaTeX` in `markdown` cells to control formatting.  \n",
    "\n",
    "When navigating through the various cells in a `Notebook`, you will use two modes: `Command Mode` and `Edit Mode`.  \n",
    "\n",
    "In `Command Mode`, cells will feature a blue border:\n",
    "![cmd](./assets/Command.PNG)  \n",
    "\n",
    "`Edit Mode` features a green border:\n",
    "![edit](./assets/Edit.PNG)\n",
    "\n",
    "While in `Command Mode`, double-clicking on a cell or hitting `enter` will activate `Edit Mode`. In `Edit Mode`, hitting `esc` returns to command mode.  \n",
    "\n",
    "A full list of keyboard shortcuts is available under the `<Help>` menu at the top of your screen. Alternatively, the list can be accessed by hitting `<h>` while in `Command Mode`.  \n",
    "\n",
    "A few important `Command Mode` shortcuts are:  \n",
    "- `<a>` creates a new cell [a]bove the current cell\n",
    "- `<b>` creates a new cell [b]elow the current cell  \n",
    "- `<x>, <c>, <v>` will cut, copy and paste cells (mutiple cells selected with `<shift-click>`\n",
    "- `<d , d>` will delete the selected cell(s)\n",
    "- `<s>` or `<ctrl-s>` will save the notebook  \n",
    "- `<i , i>` will interrupt the current process [e.g. when a process is taking too long or there is some issue]  \n",
    "\n",
    "In `Edit Mode`, the important shortcuts are:\n",
    "- `<ctrl-enter>` runs the current cell.\n",
    "- `<shift-enter>` runs the current cell and highlights the next cell.\n",
    "- `<alt-enter>` runs the current cell and creates a new cell below.\n",
    "\n",
    "For example, using this cell practice switching between `Command` and `Edit` mode; Running the cell, and creating new cells.  \n",
    "\n",
    "---\n",
    "During execution of a cell you will see the `In [ ]` change to:\n",
    "![running](./assets/Running.PNG)  \n",
    "\n",
    "And after completion, the number next to the `In` will increment:\n",
    "![run](./assets/Run.PNG)\n",
    "\n",
    "Indicating a cell has run.\n"
   ]
  },
  {
   "cell_type": "markdown",
   "metadata": {
    "deletable": false,
    "editable": false,
    "nbgrader": {
     "grade": false,
     "locked": true,
     "solution": false
    }
   },
   "source": [
    "<a id = \"python\"></a>\n",
    "### Onto Python\n",
    "\n",
    "Python can simply be thought of as a big calculator. As a calculator, it features a number of built-in operators:\n",
    "\n",
    "- `+` for addition\n",
    "- `-` for subtraction\n",
    "- `*` for multiplication\n",
    "- `/` for division\n",
    "- `**` for exponents, e.g. `2**4` is $2^4$  \n",
    "- `//` for floor division e.g.  `9/4 = 2.25; 9//4 = 2; 9/2 = 4.5, 9//2 = 4`\n",
    "- `%` as the modulo operator. e.g. `9%3 = 0; 9%2 = 1; 9%4 = 1; 9%5 = 4` e.g. - n1%n2 returns the remainder from n1/n2\n",
    "\n",
    "Run (`<ctrl-enter> or <shift-enter>`) the below  cell for an example:"
   ]
  },
  {
   "cell_type": "code",
   "execution_count": 1,
   "metadata": {
    "deletable": false,
    "editable": false,
    "nbgrader": {
     "grade": false,
     "locked": true,
     "solution": false
    }
   },
   "outputs": [
    {
     "data": {
      "text/plain": [
       "(4, -2, 15.600000000000001, 4.5, 4, 16)"
      ]
     },
     "execution_count": 1,
     "metadata": {},
     "output_type": "execute_result"
    }
   ],
   "source": [
    "2+2, 1-3, 5.2*3, 9/2, 9//2, 2**4"
   ]
  },
  {
   "cell_type": "markdown",
   "metadata": {
    "deletable": false,
    "editable": false,
    "nbgrader": {
     "grade": false,
     "locked": true,
     "solution": false
    }
   },
   "source": [
    "Python can also print out messages to the \"console\" using the `print()` command.  \n",
    "Run the following:"
   ]
  },
  {
   "cell_type": "code",
   "execution_count": 2,
   "metadata": {
    "deletable": false,
    "editable": false,
    "nbgrader": {
     "grade": false,
     "locked": true,
     "solution": false
    }
   },
   "outputs": [
    {
     "name": "stdout",
     "output_type": "stream",
     "text": [
      "Hello world\n",
      "Well hello to you too!\n"
     ]
    },
    {
     "data": {
      "text/plain": [
       "\"What's next\""
      ]
     },
     "execution_count": 2,
     "metadata": {},
     "output_type": "execute_result"
    }
   ],
   "source": [
    "print(\"Hello world\")\n",
    "print(\"Well hello to you too!\")\n",
    "\"What's next\""
   ]
  },
  {
   "cell_type": "markdown",
   "metadata": {
    "deletable": false,
    "editable": false,
    "nbgrader": {
     "grade": false,
     "locked": true,
     "solution": false
    }
   },
   "source": [
    "You should see something like this after running the previous cell:\n",
    "![out](./assets/Output.PNG)  \n",
    "\n",
    "The top two lines (\"Hello world\", and \"Well hello...\") are both wrapped in `print()` statements -- This means Python has been told to print each to the console.  \n",
    "\"What's next\" is **not** in a `print()` statement, yet, it has appeared in our console -- Notice the `Out [19] ` appearing adjacent to \"What's next\". One of the convenience features of `Jupyter Notebook` (**not** Python) is that it will print out the *returned value* of the last line of a code cell.  \n",
    "Please run the below cell:"
   ]
  },
  {
   "cell_type": "code",
   "execution_count": 5,
   "metadata": {
    "deletable": false,
    "editable": false,
    "nbgrader": {
     "grade": false,
     "locked": true,
     "solution": false
    }
   },
   "outputs": [
    {
     "name": "stdout",
     "output_type": "stream",
     "text": [
      "Hello world\n",
      "Well hello to you too!\n"
     ]
    }
   ],
   "source": [
    "print(\"Hello world\")\n",
    "\"What's next\"\n",
    "print(\"Well hello to you too!\")"
   ]
  },
  {
   "cell_type": "markdown",
   "metadata": {
    "deletable": false,
    "editable": false,
    "nbgrader": {
     "grade": false,
     "locked": true,
     "solution": false
    }
   },
   "source": [
    "Notice that \"What's next\" does not print to the console, but the `Out[#]` has also disappeared. It is important to remember this difference between the behavior of *Python* and the behavior of *Jupyter Notebook*."
   ]
  },
  {
   "cell_type": "markdown",
   "metadata": {
    "deletable": false,
    "editable": false,
    "nbgrader": {
     "grade": false,
     "locked": true,
     "solution": false
    }
   },
   "source": [
    "The four basic types in Python are `Integers`, `Floats`, `Strings` and `Booleans`.  "
   ]
  },
  {
   "cell_type": "code",
   "execution_count": 6,
   "metadata": {
    "deletable": false,
    "editable": false,
    "nbgrader": {
     "grade": false,
     "locked": true,
     "solution": false
    }
   },
   "outputs": [
    {
     "name": "stdout",
     "output_type": "stream",
     "text": [
      "7 is a  <class 'int'>\n",
      "7.1 is a  <class 'float'>\n",
      "Joe is a  <class 'str'>\n",
      "True is a  <class 'bool'>\n"
     ]
    }
   ],
   "source": [
    "print(7, \"is a \", type(7))\n",
    "print(7.1, \"is a \", type(7.1))\n",
    "print(\"Joe\", \"is a \", type(\"Joe\"))\n",
    "print(True, \"is a \", type(True))"
   ]
  },
  {
   "cell_type": "markdown",
   "metadata": {
    "deletable": false,
    "editable": false,
    "nbgrader": {
     "grade": false,
     "locked": true,
     "solution": false
    }
   },
   "source": [
    "Notice the two \"primitve\" types of numbers: `int`egers and `float`ing point."
   ]
  },
  {
   "cell_type": "markdown",
   "metadata": {
    "deletable": false,
    "editable": false,
    "nbgrader": {
     "grade": false,
     "locked": true,
     "solution": false
    }
   },
   "source": [
    "<a id = \"vars\"></a>\n",
    "### Variable assignment  \n",
    "\n",
    "Variables may be assigned (almost) any name by the user. There are a few [reserved words](https://www.google.com/search?client=opera&ei=a4q1W7juKua0jwS30ZO4BA&q=python+keywords+3.6+list&oq=python+keywords+3.6+list&gs_l=psy-ab.3..33i22i29i30l10.6879.7300..7427...0.0..0.180.641.1j4......0....1..gws-wiz.......0i22i30.FR38nCgXD0g) and [names of builtin functions](https://docs.python.org/3.6/library/functions.html) that cannot be used for variable names. In general, Python style guides suggest using `lower_case_words_connected_by_undersore_for_variable_names`.  \n",
    "\n",
    "Assignment in Python occurs using the `=` operator. As seen in the next cell"
   ]
  },
  {
   "cell_type": "code",
   "execution_count": 7,
   "metadata": {
    "deletable": false,
    "editable": false,
    "nbgrader": {
     "grade": false,
     "locked": true,
     "solution": false
    }
   },
   "outputs": [
    {
     "name": "stdout",
     "output_type": "stream",
     "text": [
      "my_num =  1\n",
      "another_num =  1\n",
      "\n",
      "Changing my_num\n",
      "\n",
      "my_num =  2\n",
      "another_num =  1\n"
     ]
    }
   ],
   "source": [
    "my_num = 1\n",
    "another_num = my_num\n",
    "\n",
    "print(\"my_num = \", my_num)\n",
    "print(\"another_num = \", another_num)\n",
    "\n",
    "print(\"\\nChanging my_num\\n\")\n",
    "\n",
    "my_num = 2\n",
    "\n",
    "print(\"my_num = \", my_num)\n",
    "print(\"another_num = \", another_num)"
   ]
  },
  {
   "cell_type": "markdown",
   "metadata": {
    "deletable": false,
    "editable": false,
    "nbgrader": {
     "grade": false,
     "locked": true,
     "solution": false
    }
   },
   "source": [
    "Notice here how changing the value of `my_num` did not change the value of `another_num`.  \n",
    "\n",
    "There are some cases (covered next week) where the changing of one variable *can* change the value of another variable. But, as a general rule, if a variable's value is changed using the `=` operator, everything should be safe. On the other hand if a variable's value is changed via a method (covered below) then it is possible that the values of multiple variables might change.  \n",
    "\n",
    "\n",
    "Below we create one variable for each type of \"primitive\". Watch as the `floats` and `ints` are re-cast."
   ]
  },
  {
   "cell_type": "code",
   "execution_count": 8,
   "metadata": {
    "deletable": false,
    "editable": false,
    "nbgrader": {
     "grade": false,
     "locked": true,
     "solution": false
    }
   },
   "outputs": [
    {
     "name": "stdout",
     "output_type": "stream",
     "text": [
      "my_float =  7.0 <class 'float'>\n",
      "my_float2 =  7.2 <class 'float'>\n",
      "my_int =  7 <class 'int'>\n",
      "my_float == my_float2?:  False\n",
      "my_int == my_float?:  True\n",
      "my_int == my_float2?:  False\n",
      "\n",
      "Recasting Numbers\n",
      "\n",
      "my_float =  7 <class 'int'>\n",
      "my_float2 =  7 <class 'int'>\n",
      "my_int =  7.0 <class 'float'>\n",
      "my_float == my_float2?:  True\n",
      "my_int == my_float?:  True\n",
      "my_int == my_float2?:  True\n"
     ]
    }
   ],
   "source": [
    "my_int = 7\n",
    "my_float = 7.0\n",
    "my_float2 = 7.2\n",
    "my_string = \"Joe\"\n",
    "my_bool = True\n",
    "\n",
    "print(\"my_float = \", my_float, type(my_float))\n",
    "print(\"my_float2 = \", my_float2, type(my_float2))\n",
    "print(\"my_int = \", my_int, type(my_int))\n",
    "print(\"my_float == my_float2?: \", my_float == my_float2)\n",
    "print(\"my_int == my_float?: \", my_int == my_float)\n",
    "print(\"my_int == my_float2?: \", my_int == my_float2)\n",
    "\n",
    "print('\\nRecasting Numbers\\n')\n",
    "my_float = int(my_float)\n",
    "my_float2 = int(my_float2)\n",
    "my_int = float(my_int)\n",
    "\n",
    "print(\"my_float = \", my_float, type(my_float))\n",
    "print(\"my_float2 = \", my_float2, type(my_float2))\n",
    "print(\"my_int = \", my_int, type(my_int))\n",
    "print(\"my_float == my_float2?: \", my_float == my_float2)\n",
    "print(\"my_int == my_float?: \", my_int == my_float)\n",
    "print(\"my_int == my_float2?: \", my_int == my_float2)"
   ]
  },
  {
   "cell_type": "markdown",
   "metadata": {
    "deletable": false,
    "editable": false,
    "nbgrader": {
     "grade": false,
     "locked": true,
     "solution": false
    }
   },
   "source": [
    "`types` in Python (which as seen above can be found using the `type()` built-in function) are determined *dynamically*; this is to say that a single variable may have its type changed by the user.  \n",
    "\n",
    "The `my_float` and `my_float2` variables were *recast* to integers by wrapping the variable name in a call to the `int()` function.  \n",
    "\n",
    "Note how the comparison between the `floats` and `int` changed -- the recasting of `7.2` as an `int` changed it's value to a `7`, recasting the `7.0` as an `int` was also changed to `7`. It is important to remember that naive recasting *might* change an underlying value."
   ]
  },
  {
   "cell_type": "markdown",
   "metadata": {
    "deletable": false,
    "editable": false,
    "nbgrader": {
     "grade": false,
     "locked": true,
     "solution": false
    }
   },
   "source": [
    "<a id = \"grading\"></a>\n",
    "### Assignment Grading Example:\n",
    "\n",
    "Having covered \"Python as a calculator\" and variable assignment, we are ready for our first graded code cell.  \n",
    "\n",
    "These assignmets will be graded automatically. Thus it is very important to follow submission instructions very carefully.\n",
    "\n",
    "The below cell will be graded. The full question and answer code are already provided so *if you want credit for this question, do not change anything*\n",
    "\n",
    "#### Question 1:"
   ]
  },
  {
   "cell_type": "code",
   "execution_count": 12,
   "metadata": {},
   "outputs": [
    {
     "name": "stdout",
     "output_type": "stream",
     "text": [
      "15\n",
      "5.916079783099616\n"
     ]
    }
   ],
   "source": [
    "### GRADED\n",
    "### Example question\n",
    "### Assign the value of 15 to var1; Use an exponential function to assign var2 the value of to the square root of 35.\n",
    "\n",
    "### NB: Unlike the above code cells, you will be able to edit this cell\n",
    "### YOUR ANSWER BELOW\n",
    "\n",
    "var1 = 15\n",
    "var2 = 35**.5\n",
    " \n",
    "\n",
    "### Testing answers below:\n",
    "print(var1)\n",
    "print(var2)"
   ]
  },
  {
   "cell_type": "code",
   "execution_count": null,
   "metadata": {
    "collapsed": true,
    "deletable": false,
    "editable": false,
    "nbgrader": {
     "grade": true,
     "grade_id": "Question 1",
     "locked": true,
     "points": "1",
     "solution": false
    }
   },
   "outputs": [],
   "source": [
    "###\n",
    "### AUTOGRADER TEST - DO NOT REMOVE\n",
    "###\n"
   ]
  },
  {
   "cell_type": "markdown",
   "metadata": {
    "deletable": false,
    "editable": false,
    "nbgrader": {
     "grade": false,
     "locked": true,
     "solution": false
    }
   },
   "source": [
    "###  A Couple of Easy Math Questions:\n",
    "#### Question 2:"
   ]
  },
  {
   "cell_type": "code",
   "execution_count": 10,
   "metadata": {},
   "outputs": [
    {
     "name": "stdout",
     "output_type": "stream",
     "text": [
      "0.41713308457711445\n"
     ]
    }
   ],
   "source": [
    "### GRADED\n",
    "### Assign the value of 2683 divided by 6432 to ans1.\n",
    "### YOUR ANSWER BELOW\n",
    "\n",
    "ans1 = 2683/6432\n",
    "print(ans1)"
   ]
  },
  {
   "cell_type": "code",
   "execution_count": null,
   "metadata": {
    "collapsed": true,
    "deletable": false,
    "editable": false,
    "nbgrader": {
     "grade": true,
     "grade_id": "Question 2",
     "locked": true,
     "points": "5",
     "solution": false
    }
   },
   "outputs": [],
   "source": [
    "###\n",
    "### AUTOGRADER TEST - DO NOT REMOVE\n",
    "###\n"
   ]
  },
  {
   "cell_type": "markdown",
   "metadata": {
    "deletable": false,
    "editable": false,
    "nbgrader": {
     "grade": false,
     "locked": true,
     "solution": false
    }
   },
   "source": [
    "#### Question 3:"
   ]
  },
  {
   "cell_type": "code",
   "execution_count": 11,
   "metadata": {},
   "outputs": [
    {
     "name": "stdout",
     "output_type": "stream",
     "text": [
      "90.10188799999999\n"
     ]
    }
   ],
   "source": [
    "### GRADED\n",
    "### Find the value of 1.678 squared times 32. Assign to ans1.\n",
    "### YOUR ANSWER BELOW\n",
    "\n",
    "ans1 = (1.678**2) * 32\n",
    "print(ans1)"
   ]
  },
  {
   "cell_type": "code",
   "execution_count": null,
   "metadata": {
    "collapsed": true,
    "deletable": false,
    "editable": false,
    "nbgrader": {
     "grade": true,
     "grade_id": "Question 3",
     "locked": true,
     "points": "5",
     "solution": false
    }
   },
   "outputs": [],
   "source": [
    "###\n",
    "### AUTOGRADER TEST - DO NOT REMOVE\n",
    "###\n"
   ]
  },
  {
   "cell_type": "markdown",
   "metadata": {
    "deletable": false,
    "editable": false,
    "nbgrader": {
     "grade": false,
     "locked": true,
     "solution": false
    }
   },
   "source": [
    "#### Useful operators:\n",
    "\n",
    "Before departing from math, a note on some useful operators:\n",
    "\n",
    "- `x+=1 ` is the same as `x=x+1`\n",
    "- `x*=2` is the same as `x=x*2`\n",
    "- Same with `-` and `/`"
   ]
  }
 ],
 "metadata": {
  "kernelspec": {
   "display_name": "Python 3 [3.6]",
   "language": "python",
   "name": "python3"
  },
  "language_info": {
   "codemirror_mode": {
    "name": "ipython",
    "version": 3
   },
   "file_extension": ".py",
   "mimetype": "text/x-python",
   "name": "python",
   "nbconvert_exporter": "python",
   "pygments_lexer": "ipython3",
   "version": "3.6.4"
  }
 },
 "nbformat": 4,
 "nbformat_minor": 2
}
