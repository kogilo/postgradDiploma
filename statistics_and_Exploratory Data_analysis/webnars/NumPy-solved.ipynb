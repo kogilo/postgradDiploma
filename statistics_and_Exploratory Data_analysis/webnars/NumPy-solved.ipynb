{
 "cells": [
  {
   "cell_type": "markdown",
   "metadata": {},
   "source": [
    "# Week 12 - NumPy for data analysis and visualization\n",
    "## _Introduction to NumPy_\n",
    "Author: _Eduard Valera Zorita (Emeritus Institute of Management)_"
   ]
  },
  {
   "cell_type": "markdown",
   "metadata": {},
   "source": [
    "**Contents:**\n",
    "\n",
    "[1. NumPy arrays](#1.-NumPy-arrays)\n",
    "\n",
    "\n",
    "[2. NumPy random library](#2.-NumPy-random)\n",
    "\n",
    "\n",
    "[3. Examples](#3.-Examples)"
   ]
  },
  {
   "cell_type": "markdown",
   "metadata": {},
   "source": [
    "## 1. NumPy arrays\n",
    "### 1.1. NumPy 1-D arrays"
   ]
  },
  {
   "cell_type": "code",
   "execution_count": 1,
   "metadata": {},
   "outputs": [],
   "source": [
    "import numpy as np"
   ]
  },
  {
   "cell_type": "markdown",
   "metadata": {},
   "source": [
    "⌨ Create a 1-D array with values `[1,2,3,4]`:"
   ]
  },
  {
   "cell_type": "code",
   "execution_count": 2,
   "metadata": {},
   "outputs": [
    {
     "data": {
      "text/plain": [
       "array([1, 2, 3, 4])"
      ]
     },
     "execution_count": 2,
     "metadata": {},
     "output_type": "execute_result"
    }
   ],
   "source": [
    "np.array([1,2,3,4])"
   ]
  },
  {
   "cell_type": "markdown",
   "metadata": {},
   "source": [
    "⌨ Create a 1-D array of size `10`, initialize to `0`:"
   ]
  },
  {
   "cell_type": "code",
   "execution_count": 3,
   "metadata": {},
   "outputs": [
    {
     "data": {
      "text/plain": [
       "array([0., 0., 0., 0., 0., 0., 0., 0., 0., 0.])"
      ]
     },
     "execution_count": 3,
     "metadata": {},
     "output_type": "execute_result"
    }
   ],
   "source": [
    "np.zeros(10)"
   ]
  },
  {
   "cell_type": "markdown",
   "metadata": {},
   "source": [
    "⌨ Create a 1-D array of size 4, initialize to `1`:"
   ]
  },
  {
   "cell_type": "code",
   "execution_count": 4,
   "metadata": {},
   "outputs": [
    {
     "data": {
      "text/plain": [
       "array([1., 1., 1., 1.])"
      ]
     },
     "execution_count": 4,
     "metadata": {},
     "output_type": "execute_result"
    }
   ],
   "source": [
    "np.ones(4)"
   ]
  },
  {
   "cell_type": "markdown",
   "metadata": {},
   "source": [
    "⌨ Create a 1-D array containing the range from `0` to `23`, assign to `x`:\n",
    "> **Hint**: use `np.arange()`"
   ]
  },
  {
   "cell_type": "code",
   "execution_count": 6,
   "metadata": {},
   "outputs": [
    {
     "name": "stdout",
     "output_type": "stream",
     "text": [
      "[ 0  1  2  3  4  5  6  7  8  9 10 11 12 13 14 15 16 17 18 19 20 21 22 23]\n"
     ]
    }
   ],
   "source": [
    "x = np.arange(24)\n",
    "print(x)"
   ]
  },
  {
   "cell_type": "markdown",
   "metadata": {},
   "source": [
    "⌨ Compute the mean of `x`:"
   ]
  },
  {
   "cell_type": "code",
   "execution_count": 7,
   "metadata": {},
   "outputs": [
    {
     "data": {
      "text/plain": [
       "11.5"
      ]
     },
     "execution_count": 7,
     "metadata": {},
     "output_type": "execute_result"
    }
   ],
   "source": [
    "x.mean()"
   ]
  },
  {
   "cell_type": "markdown",
   "metadata": {},
   "source": [
    "⌨ Compute the standard deviation of `x`:"
   ]
  },
  {
   "cell_type": "code",
   "execution_count": 8,
   "metadata": {},
   "outputs": [
    {
     "data": {
      "text/plain": [
       "6.922186552431729"
      ]
     },
     "execution_count": 8,
     "metadata": {},
     "output_type": "execute_result"
    }
   ],
   "source": [
    "x.std()"
   ]
  },
  {
   "cell_type": "markdown",
   "metadata": {},
   "source": [
    "⌨ Add `2` to all elements of `x`, assign the result to `y`:"
   ]
  },
  {
   "cell_type": "code",
   "execution_count": 9,
   "metadata": {},
   "outputs": [
    {
     "name": "stdout",
     "output_type": "stream",
     "text": [
      "[ 2  3  4  5  6  7  8  9 10 11 12 13 14 15 16 17 18 19 20 21 22 23 24 25]\n"
     ]
    }
   ],
   "source": [
    "y = x+2\n",
    "print(y)"
   ]
  },
  {
   "cell_type": "markdown",
   "metadata": {},
   "source": [
    "⌨ Add `1` to the odd elements of `x`, subtract `1` from the even elements of `x`:\n",
    "> **Hint**: use `np.where()`"
   ]
  },
  {
   "cell_type": "code",
   "execution_count": 10,
   "metadata": {},
   "outputs": [
    {
     "data": {
      "text/plain": [
       "array([-1,  2,  1,  4,  3,  6,  5,  8,  7, 10,  9, 12, 11, 14, 13, 16, 15,\n",
       "       18, 17, 20, 19, 22, 21, 24])"
      ]
     },
     "execution_count": 10,
     "metadata": {},
     "output_type": "execute_result"
    }
   ],
   "source": [
    "x + np.where(x%2==0, -1, 1)"
   ]
  },
  {
   "cell_type": "markdown",
   "metadata": {},
   "source": [
    "### 1.2. NumPy n-D arrays"
   ]
  },
  {
   "cell_type": "markdown",
   "metadata": {},
   "source": [
    "⌨ Create a 1-D array containing the range from `0` to `23`, assign to `X`:"
   ]
  },
  {
   "cell_type": "code",
   "execution_count": 20,
   "metadata": {},
   "outputs": [
    {
     "name": "stdout",
     "output_type": "stream",
     "text": [
      "[ 0  1  2  3  4  5  6  7  8  9 10 11 12 13 14 15 16 17 18 19 20 21 22 23]\n"
     ]
    }
   ],
   "source": [
    "X = np.arange(24)\n",
    "print(X)"
   ]
  },
  {
   "cell_type": "markdown",
   "metadata": {},
   "source": [
    "⌨ Create a 2-D array from `X` with shape `(4,6)`, reassign to `X`:\n",
    "> **Hint**: Use `np.reshape()`"
   ]
  },
  {
   "cell_type": "code",
   "execution_count": 21,
   "metadata": {},
   "outputs": [
    {
     "name": "stdout",
     "output_type": "stream",
     "text": [
      "[[ 0  1  2  3  4  5]\n",
      " [ 6  7  8  9 10 11]\n",
      " [12 13 14 15 16 17]\n",
      " [18 19 20 21 22 23]]\n"
     ]
    }
   ],
   "source": [
    "X = X.reshape((4,6))\n",
    "print(X)"
   ]
  },
  {
   "cell_type": "markdown",
   "metadata": {},
   "source": [
    "⌨ Compute the overall mean of `X`:"
   ]
  },
  {
   "cell_type": "code",
   "execution_count": 13,
   "metadata": {},
   "outputs": [
    {
     "data": {
      "text/plain": [
       "11.5"
      ]
     },
     "execution_count": 13,
     "metadata": {},
     "output_type": "execute_result"
    }
   ],
   "source": [
    "X.mean()"
   ]
  },
  {
   "cell_type": "markdown",
   "metadata": {},
   "source": [
    "⌨ Compute the mean of the rows of `X`:\n",
    "> **Hint:** use `array.mean(dim)`"
   ]
  },
  {
   "cell_type": "code",
   "execution_count": 15,
   "metadata": {},
   "outputs": [
    {
     "data": {
      "text/plain": [
       "array([ 2.5,  8.5, 14.5, 20.5])"
      ]
     },
     "execution_count": 15,
     "metadata": {},
     "output_type": "execute_result"
    }
   ],
   "source": [
    "X.mean(1)"
   ]
  },
  {
   "cell_type": "markdown",
   "metadata": {},
   "source": [
    "⌨ Compute the mean of the columns of `X`:"
   ]
  },
  {
   "cell_type": "code",
   "execution_count": 16,
   "metadata": {},
   "outputs": [
    {
     "data": {
      "text/plain": [
       "array([ 9., 10., 11., 12., 13., 14.])"
      ]
     },
     "execution_count": 16,
     "metadata": {},
     "output_type": "execute_result"
    }
   ],
   "source": [
    "X.mean(0)"
   ]
  },
  {
   "cell_type": "markdown",
   "metadata": {},
   "source": [
    "⌨ Create a new column with values `[0,1,2,3]`, append the column to `X`:\n",
    "> **Hint:** use `np.concatenate((x,y), dim)`, use `array.reshape()` to match the dimensions."
   ]
  },
  {
   "cell_type": "code",
   "execution_count": 22,
   "metadata": {},
   "outputs": [
    {
     "name": "stdout",
     "output_type": "stream",
     "text": [
      "[[ 0  1  2  3  4  5  0]\n",
      " [ 6  7  8  9 10 11  1]\n",
      " [12 13 14 15 16 17  2]\n",
      " [18 19 20 21 22 23  3]]\n"
     ]
    }
   ],
   "source": [
    "newcol = np.array([0,1,2,3])\n",
    "X = np.concatenate((X, newcol.reshape(4,1)), 1)\n",
    "print(X)"
   ]
  },
  {
   "cell_type": "markdown",
   "metadata": {},
   "source": [
    "⌨ Create a new row with values `[0,1,2,3,4,5,6]`, append the row to `X`:"
   ]
  },
  {
   "cell_type": "code",
   "execution_count": 23,
   "metadata": {},
   "outputs": [
    {
     "name": "stdout",
     "output_type": "stream",
     "text": [
      "[[ 0  1  2  3  4  5  0]\n",
      " [ 6  7  8  9 10 11  1]\n",
      " [12 13 14 15 16 17  2]\n",
      " [18 19 20 21 22 23  3]\n",
      " [ 0  1  2  3  4  5  6]]\n"
     ]
    }
   ],
   "source": [
    "newrow = np.array([0,1,2,3,4,5,6])\n",
    "X = np.concatenate((X, newrow.reshape(1,7)),0)\n",
    "print(X)"
   ]
  },
  {
   "cell_type": "markdown",
   "metadata": {},
   "source": [
    "⌨ Print the 1st, 3rd and 5th column of `X`:"
   ]
  },
  {
   "cell_type": "code",
   "execution_count": 24,
   "metadata": {},
   "outputs": [
    {
     "data": {
      "text/plain": [
       "array([[ 0,  2,  4],\n",
       "       [ 6,  8, 10],\n",
       "       [12, 14, 16],\n",
       "       [18, 20, 22],\n",
       "       [ 0,  2,  4]])"
      ]
     },
     "execution_count": 24,
     "metadata": {},
     "output_type": "execute_result"
    }
   ],
   "source": [
    "X[:,[0,2,4]]"
   ]
  },
  {
   "cell_type": "markdown",
   "metadata": {},
   "source": [
    "⌨ Print the last 2 rows of `X`:"
   ]
  },
  {
   "cell_type": "code",
   "execution_count": 27,
   "metadata": {},
   "outputs": [
    {
     "data": {
      "text/plain": [
       "array([[18, 19, 20, 21, 22, 23,  3],\n",
       "       [ 0,  1,  2,  3,  4,  5,  6]])"
      ]
     },
     "execution_count": 27,
     "metadata": {},
     "output_type": "execute_result"
    }
   ],
   "source": [
    "X[-2:,:]"
   ]
  },
  {
   "cell_type": "markdown",
   "metadata": {},
   "source": [
    "⌨ Set all the odd values of `X` to `0`:\n",
    "> **Hint:** use `np.where(condition, true_replace, false_replace)`"
   ]
  },
  {
   "cell_type": "code",
   "execution_count": 29,
   "metadata": {},
   "outputs": [
    {
     "data": {
      "text/plain": [
       "array([[ 0,  0,  2,  0,  4,  0,  0],\n",
       "       [ 6,  0,  8,  0, 10,  0,  0],\n",
       "       [12,  0, 14,  0, 16,  0,  2],\n",
       "       [18,  0, 20,  0, 22,  0,  0],\n",
       "       [ 0,  0,  2,  0,  4,  0,  6]])"
      ]
     },
     "execution_count": 29,
     "metadata": {},
     "output_type": "execute_result"
    }
   ],
   "source": [
    "np.where(X%2==0,1,0)*X"
   ]
  },
  {
   "cell_type": "markdown",
   "metadata": {},
   "source": [
    "## 2. NumPy random\n",
    "### 2.1. Random numbers\n",
    "#### 2.1.1. Generate random integers\n",
    "- `np.random.randint(range, size=1)`\n",
    "\n",
    "> `range` is either an integer `max` or two arguments `min,max`"
   ]
  },
  {
   "cell_type": "markdown",
   "metadata": {},
   "source": [
    "⌨ Sample a random integer between `0` and `99`:"
   ]
  },
  {
   "cell_type": "code",
   "execution_count": 40,
   "metadata": {},
   "outputs": [
    {
     "data": {
      "text/plain": [
       "array([11])"
      ]
     },
     "execution_count": 40,
     "metadata": {},
     "output_type": "execute_result"
    }
   ],
   "source": [
    "np.random.randint(100,size=1)"
   ]
  },
  {
   "cell_type": "markdown",
   "metadata": {},
   "source": [
    "⌨ Sample `50` random integers between `0` and `9` (both included):"
   ]
  },
  {
   "cell_type": "code",
   "execution_count": 41,
   "metadata": {},
   "outputs": [
    {
     "data": {
      "text/plain": [
       "array([3, 0, 3, 6, 1, 1, 0, 8, 2, 9, 6, 4, 9, 9, 7, 9, 9, 1, 8, 2, 5, 8,\n",
       "       1, 2, 4, 0, 6, 3, 1, 1, 7, 0, 1, 8, 3, 7, 8, 8, 3, 6, 2, 1, 8, 1,\n",
       "       7, 9, 7, 5, 6, 0])"
      ]
     },
     "execution_count": 41,
     "metadata": {},
     "output_type": "execute_result"
    }
   ],
   "source": [
    "np.random.randint(10, size=50)"
   ]
  },
  {
   "cell_type": "markdown",
   "metadata": {},
   "source": [
    "⌨ Sample `50` random integers between `20` and `80` (both included):"
   ]
  },
  {
   "cell_type": "code",
   "execution_count": 55,
   "metadata": {},
   "outputs": [
    {
     "data": {
      "text/plain": [
       "array([21, 55, 23, 31, 54, 31, 48, 54, 80, 56, 28, 76, 52, 72, 34, 61, 25,\n",
       "       59, 50, 23, 56, 77, 47, 20, 21, 49, 75, 42, 64, 54, 57, 22, 40, 49,\n",
       "       69, 41, 23, 77, 33, 27, 33, 73, 34, 41, 68, 54, 33, 28, 57, 80])"
      ]
     },
     "execution_count": 55,
     "metadata": {},
     "output_type": "execute_result"
    }
   ],
   "source": [
    "np.random.randint(20,81,size=50)"
   ]
  },
  {
   "cell_type": "markdown",
   "metadata": {},
   "source": [
    "#### 2.1.2. Random choices\n",
    "- `np.random.choice(values, size=1, replace=True, p=uniform)`\n",
    "\n",
    "> `values` is either an array/list or an integer (range).\n",
    "\n",
    "> `p` is the same size of value and set the probability for each element (uniform if not set)\n"
   ]
  },
  {
   "cell_type": "markdown",
   "metadata": {},
   "source": [
    "⌨ Choose `5` integers between `0` and `9` with replacement:"
   ]
  },
  {
   "cell_type": "code",
   "execution_count": 56,
   "metadata": {},
   "outputs": [
    {
     "data": {
      "text/plain": [
       "array([8, 0, 3, 6, 8])"
      ]
     },
     "execution_count": 56,
     "metadata": {},
     "output_type": "execute_result"
    }
   ],
   "source": [
    "np.random.choice(10, size=5, replace=True)"
   ]
  },
  {
   "cell_type": "markdown",
   "metadata": {},
   "source": [
    "⌨ Choose `3` integers from `[1,3,5,7,9]` without replacement:"
   ]
  },
  {
   "cell_type": "code",
   "execution_count": 69,
   "metadata": {},
   "outputs": [
    {
     "data": {
      "text/plain": [
       "array([1, 7, 9])"
      ]
     },
     "execution_count": 69,
     "metadata": {},
     "output_type": "execute_result"
    }
   ],
   "source": [
    "values = np.array([1,3,5,7,9])\n",
    "np.random.choice(values, size=3, replace=False)"
   ]
  },
  {
   "cell_type": "markdown",
   "metadata": {},
   "source": [
    "---"
   ]
  },
  {
   "cell_type": "markdown",
   "metadata": {},
   "source": [
    "### 2.2. Sampling distributions"
   ]
  },
  {
   "cell_type": "code",
   "execution_count": 75,
   "metadata": {},
   "outputs": [],
   "source": [
    "import matplotlib.pyplot as plt"
   ]
  },
  {
   "cell_type": "markdown",
   "metadata": {},
   "source": [
    "#### 2.2.1. Normal distribution"
   ]
  },
  {
   "cell_type": "markdown",
   "metadata": {},
   "source": [
    "$\\mathcal{f_x}(\\mu,\\sigma) = \\frac{1}{\\sqrt{2\\pi}\\sigma}e^{-\\frac{(x-\\mu)^2}{2\\sigma^2}}$"
   ]
  },
  {
   "cell_type": "markdown",
   "metadata": {},
   "source": [
    "- `np.random.normal(mu, sigma, size=1)`\n",
    "\n",
    "> `mu`: expected value\n",
    "\n",
    "> `sigma`: standard deviation"
   ]
  },
  {
   "cell_type": "markdown",
   "metadata": {},
   "source": [
    "⌨ Generate `10000` samples from $X\\sim \\mathcal{N}(0,1)$:"
   ]
  },
  {
   "cell_type": "code",
   "execution_count": 77,
   "metadata": {},
   "outputs": [
    {
     "name": "stdout",
     "output_type": "stream",
     "text": [
      "[ 0.26474208 -1.80870292  0.88951182 ... -0.3393574  -0.13208247\n",
      " -0.13628762]\n"
     ]
    }
   ],
   "source": [
    "X = np.random.normal(0, 1, size=100000)\n",
    "print(X)"
   ]
  },
  {
   "cell_type": "markdown",
   "metadata": {},
   "source": [
    "⌨ Compute the mean and the standard deviation of the sample:"
   ]
  },
  {
   "cell_type": "code",
   "execution_count": 78,
   "metadata": {},
   "outputs": [
    {
     "data": {
      "text/plain": [
       "-0.0017277416305906867"
      ]
     },
     "execution_count": 78,
     "metadata": {},
     "output_type": "execute_result"
    }
   ],
   "source": [
    "X.mean()"
   ]
  },
  {
   "cell_type": "markdown",
   "metadata": {},
   "source": [
    "⌨ Plot the histogram of the sample with 100 bins:\n",
    "\n",
    "> Use `plt.hist(sample, bins=100)`"
   ]
  },
  {
   "cell_type": "code",
   "execution_count": 79,
   "metadata": {},
   "outputs": [
    {
     "data": {
      "text/plain": [
       "(array([2.000e+00, 2.000e+00, 3.000e+00, 3.000e+00, 1.000e+00, 5.000e+00,\n",
       "        3.000e+00, 9.000e+00, 1.000e+01, 1.200e+01, 1.300e+01, 1.600e+01,\n",
       "        4.000e+01, 5.000e+01, 5.800e+01, 7.100e+01, 7.900e+01, 1.340e+02,\n",
       "        1.620e+02, 1.740e+02, 2.270e+02, 2.880e+02, 3.290e+02, 3.800e+02,\n",
       "        5.090e+02, 5.320e+02, 6.910e+02, 7.880e+02, 8.910e+02, 1.114e+03,\n",
       "        1.198e+03, 1.342e+03, 1.514e+03, 1.707e+03, 1.941e+03, 2.098e+03,\n",
       "        2.356e+03, 2.472e+03, 2.668e+03, 2.823e+03, 2.973e+03, 3.217e+03,\n",
       "        3.235e+03, 3.299e+03, 3.369e+03, 3.470e+03, 3.532e+03, 3.585e+03,\n",
       "        3.553e+03, 3.474e+03, 3.428e+03, 3.225e+03, 3.131e+03, 3.035e+03,\n",
       "        2.842e+03, 2.757e+03, 2.506e+03, 2.347e+03, 2.057e+03, 1.885e+03,\n",
       "        1.701e+03, 1.463e+03, 1.378e+03, 1.223e+03, 1.022e+03, 9.060e+02,\n",
       "        7.710e+02, 7.090e+02, 5.440e+02, 5.260e+02, 4.070e+02, 3.480e+02,\n",
       "        2.870e+02, 2.470e+02, 1.910e+02, 1.320e+02, 1.180e+02, 9.900e+01,\n",
       "        6.200e+01, 5.600e+01, 3.900e+01, 4.100e+01, 2.600e+01, 1.800e+01,\n",
       "        2.200e+01, 1.000e+01, 5.000e+00, 2.000e+00, 1.000e+00, 2.000e+00,\n",
       "        1.000e+00, 2.000e+00, 1.000e+00, 3.000e+00, 1.000e+00, 0.000e+00,\n",
       "        0.000e+00, 0.000e+00, 0.000e+00, 1.000e+00]),\n",
       " array([-4.18218879e+00, -4.09326875e+00, -4.00434870e+00, -3.91542865e+00,\n",
       "        -3.82650861e+00, -3.73758856e+00, -3.64866852e+00, -3.55974847e+00,\n",
       "        -3.47082843e+00, -3.38190838e+00, -3.29298834e+00, -3.20406829e+00,\n",
       "        -3.11514825e+00, -3.02622820e+00, -2.93730816e+00, -2.84838811e+00,\n",
       "        -2.75946807e+00, -2.67054802e+00, -2.58162798e+00, -2.49270793e+00,\n",
       "        -2.40378789e+00, -2.31486784e+00, -2.22594780e+00, -2.13702775e+00,\n",
       "        -2.04810771e+00, -1.95918766e+00, -1.87026762e+00, -1.78134757e+00,\n",
       "        -1.69242753e+00, -1.60350748e+00, -1.51458744e+00, -1.42566739e+00,\n",
       "        -1.33674735e+00, -1.24782730e+00, -1.15890726e+00, -1.06998721e+00,\n",
       "        -9.81067168e-01, -8.92147123e-01, -8.03227078e-01, -7.14307032e-01,\n",
       "        -6.25386987e-01, -5.36466942e-01, -4.47546897e-01, -3.58626852e-01,\n",
       "        -2.69706807e-01, -1.80786762e-01, -9.18667170e-02, -2.94667191e-03,\n",
       "         8.59733732e-02,  1.74893418e-01,  2.63813463e-01,  3.52733508e-01,\n",
       "         4.41653553e-01,  5.30573598e-01,  6.19493644e-01,  7.08413689e-01,\n",
       "         7.97333734e-01,  8.86253779e-01,  9.75173824e-01,  1.06409387e+00,\n",
       "         1.15301391e+00,  1.24193396e+00,  1.33085400e+00,  1.41977405e+00,\n",
       "         1.50869409e+00,  1.59761414e+00,  1.68653418e+00,  1.77545423e+00,\n",
       "         1.86437427e+00,  1.95329432e+00,  2.04221436e+00,  2.13113441e+00,\n",
       "         2.22005445e+00,  2.30897450e+00,  2.39789454e+00,  2.48681459e+00,\n",
       "         2.57573464e+00,  2.66465468e+00,  2.75357473e+00,  2.84249477e+00,\n",
       "         2.93141482e+00,  3.02033486e+00,  3.10925491e+00,  3.19817495e+00,\n",
       "         3.28709500e+00,  3.37601504e+00,  3.46493509e+00,  3.55385513e+00,\n",
       "         3.64277518e+00,  3.73169522e+00,  3.82061527e+00,  3.90953531e+00,\n",
       "         3.99845536e+00,  4.08737540e+00,  4.17629545e+00,  4.26521549e+00,\n",
       "         4.35413554e+00,  4.44305558e+00,  4.53197563e+00,  4.62089567e+00,\n",
       "         4.70981572e+00]),\n",
       " <a list of 100 Patch objects>)"
      ]
     },
     "execution_count": 79,
     "metadata": {},
     "output_type": "execute_result"
    },
    {
     "data": {
      "image/png": "[encoded data removed]",
      "text/plain": [
       "<Figure size 432x288 with 1 Axes>"
      ]
     },
     "metadata": {
      "needs_background": "light"
     },
     "output_type": "display_data"
    }
   ],
   "source": [
    "plt.hist(X,bins=100)"
   ]
  },
  {
   "cell_type": "markdown",
   "metadata": {},
   "source": [
    "#### 2.2.2. Binomial distribution\n",
    "_The probability of $k$ successes within $N$ trials_"
   ]
  },
  {
   "cell_type": "markdown",
   "metadata": {},
   "source": [
    "$\\Pr(X = k) = \\binom{N}{k}p^k(1-p)^{N-k}$"
   ]
  },
  {
   "cell_type": "markdown",
   "metadata": {},
   "source": [
    "- `np.random.binomial(N, p, size=1)`\n",
    "\n",
    "> `N`: number of trials\n",
    "\n",
    "> `p`: probability of success"
   ]
  },
  {
   "cell_type": "markdown",
   "metadata": {},
   "source": [
    "⌨ Generate `10,000` binomial samples of `N=10` trials and probability of success `p=0.3`:"
   ]
  },
  {
   "cell_type": "code",
   "execution_count": 90,
   "metadata": {},
   "outputs": [
    {
     "name": "stdout",
     "output_type": "stream",
     "text": [
      "[7 0 2 ... 1 1 4]\n"
     ]
    }
   ],
   "source": [
    "X = np.random.binomial(10,0.3,size=10000)\n",
    "print(X)"
   ]
  },
  {
   "cell_type": "markdown",
   "metadata": {},
   "source": [
    "\n",
    "⌨ Compute the mean and the standard deviation. Compare with $\\text{E}[X] = np$ and $\\sigma_x = \\sqrt{np(1-p)}$."
   ]
  },
  {
   "cell_type": "code",
   "execution_count": 91,
   "metadata": {},
   "outputs": [
    {
     "name": "stdout",
     "output_type": "stream",
     "text": [
      "computed mean: 2.9971\n",
      "computed std: 1.4375296831717947\n"
     ]
    }
   ],
   "source": [
    "print('computed mean:', X.mean())\n",
    "print('computed std:', X.std())"
   ]
  },
  {
   "cell_type": "code",
   "execution_count": 92,
   "metadata": {},
   "outputs": [
    {
     "name": "stdout",
     "output_type": "stream",
     "text": [
      "expected mean: 3.0\n",
      "expected std: 1.4491376746189437\n"
     ]
    }
   ],
   "source": [
    "print('expected mean:', 10*.3)\n",
    "print('expected std:', np.sqrt(10*.3*.7))"
   ]
  },
  {
   "cell_type": "markdown",
   "metadata": {},
   "source": [
    "⌨ Plot the histogram of the sample with 10 bins:"
   ]
  },
  {
   "cell_type": "code",
   "execution_count": 93,
   "metadata": {},
   "outputs": [
    {
     "data": {
      "text/plain": [
       "(array([ 283., 1184., 2328., 2752., 1963., 1033.,  355.,   91.,    8.,\n",
       "           3.]),\n",
       " array([0. , 0.9, 1.8, 2.7, 3.6, 4.5, 5.4, 6.3, 7.2, 8.1, 9. ]),\n",
       " <a list of 10 Patch objects>)"
      ]
     },
     "execution_count": 93,
     "metadata": {},
     "output_type": "execute_result"
    },
    {
     "data": {
      "image/png": "[encoded data removed]",
      "text/plain": [
       "<Figure size 432x288 with 1 Axes>"
      ]
     },
     "metadata": {
      "needs_background": "light"
     },
     "output_type": "display_data"
    }
   ],
   "source": [
    "plt.hist(X, bins=10)"
   ]
  },
  {
   "cell_type": "markdown",
   "metadata": {},
   "source": [
    "#### 2.2.3. Geometric distribution\n",
    "_The probability of $k$ attempts before success_"
   ]
  },
  {
   "cell_type": "markdown",
   "metadata": {},
   "source": [
    "$\\Pr(X = k) = p(1-p)^{k-1}$"
   ]
  },
  {
   "cell_type": "markdown",
   "metadata": {},
   "source": [
    "- `np.random.geometric(p, size=1)`\n",
    "\n",
    "> `p`: probability of success"
   ]
  },
  {
   "cell_type": "markdown",
   "metadata": {},
   "source": [
    "⌨ Generate `10,000` geometric samples with probability of success `p=0.1`:"
   ]
  },
  {
   "cell_type": "code",
   "execution_count": 94,
   "metadata": {},
   "outputs": [
    {
     "name": "stdout",
     "output_type": "stream",
     "text": [
      "[13 14  1 ... 10 12  5]\n"
     ]
    }
   ],
   "source": [
    "X = np.random.geometric(0.1, 10000)\n",
    "print(X)"
   ]
  },
  {
   "cell_type": "markdown",
   "metadata": {},
   "source": [
    "⌨ Compute the mean and the standard deviation of the sample. Compare with $\\text{E}[X] = 1/p$ and $\\sigma_X = \\sqrt{\\frac{1-p}{p^2}}$."
   ]
  },
  {
   "cell_type": "code",
   "execution_count": 95,
   "metadata": {},
   "outputs": [
    {
     "name": "stdout",
     "output_type": "stream",
     "text": [
      "computed mean: 10.0011\n",
      "computed std: 9.698345157293588\n"
     ]
    }
   ],
   "source": [
    "print('computed mean:',X.mean())\n",
    "print('computed std:', X.std())"
   ]
  },
  {
   "cell_type": "code",
   "execution_count": 96,
   "metadata": {},
   "outputs": [
    {
     "name": "stdout",
     "output_type": "stream",
     "text": [
      "expected mean: 10.0\n",
      "expected std: 9.486832980505138\n"
     ]
    }
   ],
   "source": [
    "print('expected mean:', 1/.1)\n",
    "print('expected std:', np.sqrt((1-.1)/.1**2))"
   ]
  },
  {
   "cell_type": "markdown",
   "metadata": {},
   "source": [
    "⌨ Plot the histogram of the sample with 100 bins:"
   ]
  },
  {
   "cell_type": "code",
   "execution_count": 97,
   "metadata": {},
   "outputs": [
    {
     "data": {
      "text/plain": [
       "(array([1.909e+03, 7.900e+02, 7.500e+02, 7.050e+02, 5.420e+02, 5.210e+02,\n",
       "        4.750e+02, 4.410e+02, 7.640e+02, 3.430e+02, 2.700e+02, 2.690e+02,\n",
       "        2.000e+02, 2.270e+02, 1.910e+02, 1.460e+02, 2.780e+02, 1.130e+02,\n",
       "        9.600e+01, 1.010e+02, 6.600e+01, 8.300e+01, 6.400e+01, 4.900e+01,\n",
       "        1.080e+02, 5.000e+01, 4.800e+01, 4.300e+01, 3.300e+01, 3.100e+01,\n",
       "        2.600e+01, 2.900e+01, 2.200e+01, 3.600e+01, 1.100e+01, 1.500e+01,\n",
       "        1.100e+01, 1.800e+01, 7.000e+00, 1.000e+01, 1.500e+01, 1.800e+01,\n",
       "        3.000e+00, 6.000e+00, 5.000e+00, 7.000e+00, 3.000e+00, 3.000e+00,\n",
       "        5.000e+00, 6.000e+00, 2.000e+00, 2.000e+00, 3.000e+00, 4.000e+00,\n",
       "        4.000e+00, 5.000e+00, 4.000e+00, 3.000e+00, 2.000e+00, 1.000e+00,\n",
       "        0.000e+00, 1.000e+00, 0.000e+00, 0.000e+00, 1.000e+00, 1.000e+00,\n",
       "        2.000e+00, 0.000e+00, 0.000e+00, 0.000e+00, 0.000e+00, 0.000e+00,\n",
       "        0.000e+00, 0.000e+00, 0.000e+00, 1.000e+00, 0.000e+00, 0.000e+00,\n",
       "        0.000e+00, 1.000e+00, 0.000e+00, 0.000e+00, 0.000e+00, 0.000e+00,\n",
       "        0.000e+00, 0.000e+00, 0.000e+00, 0.000e+00, 0.000e+00, 0.000e+00,\n",
       "        0.000e+00, 0.000e+00, 0.000e+00, 0.000e+00, 0.000e+00, 0.000e+00,\n",
       "        0.000e+00, 0.000e+00, 0.000e+00, 1.000e+00]),\n",
       " array([  1.  ,   2.12,   3.24,   4.36,   5.48,   6.6 ,   7.72,   8.84,\n",
       "          9.96,  11.08,  12.2 ,  13.32,  14.44,  15.56,  16.68,  17.8 ,\n",
       "         18.92,  20.04,  21.16,  22.28,  23.4 ,  24.52,  25.64,  26.76,\n",
       "         27.88,  29.  ,  30.12,  31.24,  32.36,  33.48,  34.6 ,  35.72,\n",
       "         36.84,  37.96,  39.08,  40.2 ,  41.32,  42.44,  43.56,  44.68,\n",
       "         45.8 ,  46.92,  48.04,  49.16,  50.28,  51.4 ,  52.52,  53.64,\n",
       "         54.76,  55.88,  57.  ,  58.12,  59.24,  60.36,  61.48,  62.6 ,\n",
       "         63.72,  64.84,  65.96,  67.08,  68.2 ,  69.32,  70.44,  71.56,\n",
       "         72.68,  73.8 ,  74.92,  76.04,  77.16,  78.28,  79.4 ,  80.52,\n",
       "         81.64,  82.76,  83.88,  85.  ,  86.12,  87.24,  88.36,  89.48,\n",
       "         90.6 ,  91.72,  92.84,  93.96,  95.08,  96.2 ,  97.32,  98.44,\n",
       "         99.56, 100.68, 101.8 , 102.92, 104.04, 105.16, 106.28, 107.4 ,\n",
       "        108.52, 109.64, 110.76, 111.88, 113.  ]),\n",
       " <a list of 100 Patch objects>)"
      ]
     },
     "execution_count": 97,
     "metadata": {},
     "output_type": "execute_result"
    },
    {
     "data": {
      "image/png": "[encoded data removed]",
      "text/plain": [
       "<Figure size 432x288 with 1 Axes>"
      ]
     },
     "metadata": {
      "needs_background": "light"
     },
     "output_type": "display_data"
    }
   ],
   "source": [
    "plt.hist(X, bins=100)"
   ]
  },
  {
   "cell_type": "markdown",
   "metadata": {},
   "source": [
    "#### 2.2.4. Other distributions\n",
    "- Exponential: `np.random.exponential(lambda, size=1)`\n",
    "- Poisson: `np.random.poisson(lambda, size=1)`"
   ]
  },
  {
   "cell_type": "markdown",
   "metadata": {},
   "source": [
    "---"
   ]
  },
  {
   "cell_type": "markdown",
   "metadata": {},
   "source": [
    "## 3. Examples"
   ]
  },
  {
   "cell_type": "markdown",
   "metadata": {},
   "source": [
    "### 3.1. Solve a linear equation system"
   ]
  },
  {
   "cell_type": "markdown",
   "metadata": {},
   "source": [
    "$$\n",
    "\\begin{array}\n",
    "5x+3y+2z & = & 19 \\\\\n",
    "-x+9y-4z & = & -1 \\\\\n",
    "x+y+8z & = & 23\n",
    "\\end{array}\n",
    "$$"
   ]
  },
  {
   "cell_type": "markdown",
   "metadata": {},
   "source": [
    "In matrix notation:"
   ]
  },
  {
   "cell_type": "markdown",
   "metadata": {},
   "source": [
    "$$\n",
    "\\begin{pmatrix}\n",
    "1 & 3 & 2 \\\\\n",
    "-1 & 9 & -4 \\\\\n",
    "1 & 1 & 8\n",
    "\\end{pmatrix}\n",
    "\\left(\n",
    "\\begin{array}\n",
    "1x \\\\\n",
    "y \\\\\n",
    "z\n",
    "\\end{array}\n",
    "\\right)\n",
    "=\n",
    "\\left(\n",
    "\\begin{array}\n",
    "019 \\\\\n",
    "-1 \\\\\n",
    "23\n",
    "\\end{array}\n",
    "\\right)\n",
    "$$"
   ]
  },
  {
   "cell_type": "markdown",
   "metadata": {},
   "source": [
    "The system can be solved by matrix inversion:"
   ]
  },
  {
   "cell_type": "markdown",
   "metadata": {},
   "source": [
    "$$\n",
    "\\left(\n",
    "\\begin{array}\n",
    "1x \\\\\n",
    "y \\\\\n",
    "z\n",
    "\\end{array}\n",
    "\\right)\n",
    "=\n",
    "\\begin{pmatrix}\n",
    "1 & 3 & 2 \\\\\n",
    "-1 & 9 & -4 \\\\\n",
    "1 & 1 & 8\n",
    "\\end{pmatrix}^{-1}\n",
    "\\left(\n",
    "\\begin{array}\n",
    "019 \\\\\n",
    "-1 \\\\\n",
    "23\n",
    "\\end{array}\n",
    "\\right)\n",
    "$$"
   ]
  },
  {
   "cell_type": "markdown",
   "metadata": {},
   "source": [
    "⌨ Create a numpy array that represents the system matrix, assign to `M`:"
   ]
  },
  {
   "cell_type": "code",
   "execution_count": 98,
   "metadata": {},
   "outputs": [
    {
     "name": "stdout",
     "output_type": "stream",
     "text": [
      "[[ 1  3  2]\n",
      " [-1  9 -4]\n",
      " [ 1  1  8]]\n"
     ]
    }
   ],
   "source": [
    "M = np.array([[1,3,2],[-1,9,-4],[1,1,8]])\n",
    "print(M)"
   ]
  },
  {
   "cell_type": "markdown",
   "metadata": {},
   "source": [
    "⌨ Create the scalar vector, assign to `S`:"
   ]
  },
  {
   "cell_type": "code",
   "execution_count": 101,
   "metadata": {},
   "outputs": [
    {
     "name": "stdout",
     "output_type": "stream",
     "text": [
      "[19 -1 23]\n"
     ]
    }
   ],
   "source": [
    "S = np.array([19,-1,23])\n",
    "print(S)"
   ]
  },
  {
   "cell_type": "markdown",
   "metadata": {},
   "source": [
    "⌨ Solve the system using matrix inversion and matrix dot product:\n",
    "\n",
    "> To invert a matrix, use: `np.linalg.inv(X)`\n",
    "\n",
    "> For matrix multiplication, use: `np.dot(A,B)`"
   ]
  },
  {
   "cell_type": "code",
   "execution_count": 102,
   "metadata": {},
   "outputs": [
    {
     "data": {
      "text/plain": [
       "array([11.41176471,  1.70588235,  1.23529412])"
      ]
     },
     "execution_count": 102,
     "metadata": {},
     "output_type": "execute_result"
    }
   ],
   "source": [
    "np.dot(np.linalg.inv(M),S)"
   ]
  },
  {
   "cell_type": "markdown",
   "metadata": {},
   "source": [
    "### 3.2. Probability of three `6` in a roll of `10` dice?"
   ]
  },
  {
   "cell_type": "markdown",
   "metadata": {},
   "source": [
    "⌨ Define a function that returns the result of rolling a fair dice:\n",
    "\n",
    "> Prototype: `def dice(N)`\n",
    "\n",
    "> Returns: a `numpy.array` containing `N` independent dice rolls (integer from 1 to 6)."
   ]
  },
  {
   "cell_type": "code",
   "execution_count": 103,
   "metadata": {},
   "outputs": [],
   "source": [
    "def dice(N):\n",
    "    return np.random.randint(1,7,size=N)"
   ]
  },
  {
   "cell_type": "code",
   "execution_count": 104,
   "metadata": {},
   "outputs": [
    {
     "data": {
      "text/plain": [
       "array([1, 6, 6, 6, 2, 3, 4, 3, 5, 6])"
      ]
     },
     "execution_count": 104,
     "metadata": {},
     "output_type": "execute_result"
    }
   ],
   "source": [
    "dice(10)"
   ]
  },
  {
   "cell_type": "markdown",
   "metadata": {},
   "source": [
    "##### Empirical observation using numpy"
   ]
  },
  {
   "cell_type": "markdown",
   "metadata": {},
   "source": [
    "⌨ Roll `10` dice a thousand times. Store the result in a `1000x10` array, where the columns denote the dice rolls of each experiment."
   ]
  },
  {
   "cell_type": "code",
   "execution_count": 124,
   "metadata": {},
   "outputs": [
    {
     "name": "stdout",
     "output_type": "stream",
     "text": [
      "[[4 5 3 ... 6 6 2]\n",
      " [4 1 2 ... 2 5 6]\n",
      " [6 4 6 ... 2 5 6]\n",
      " ...\n",
      " [5 2 5 ... 1 3 6]\n",
      " [3 3 6 ... 4 5 2]\n",
      " [1 1 6 ... 3 5 1]]\n",
      "[4 5 3 2 5 1 6 6 6 2]\n",
      "(100000, 10)\n"
     ]
    }
   ],
   "source": [
    "rolls = np.array([dice(10) for i in np.arange(100000)])\n",
    "print(rolls)\n",
    "print(rolls[0,:])\n",
    "print(rolls.shape)"
   ]
  },
  {
   "cell_type": "markdown",
   "metadata": {},
   "source": [
    "⌨ Use `np.where()` to convert `6` to `1` and the rest to `0`, assign the result to `success`:"
   ]
  },
  {
   "cell_type": "code",
   "execution_count": 125,
   "metadata": {},
   "outputs": [
    {
     "name": "stdout",
     "output_type": "stream",
     "text": [
      "[[0 0 0 ... 1 1 0]\n",
      " [0 0 0 ... 0 0 1]\n",
      " [1 0 1 ... 0 0 1]\n",
      " ...\n",
      " [0 0 0 ... 0 0 1]\n",
      " [0 0 1 ... 0 0 0]\n",
      " [0 0 1 ... 0 0 0]]\n"
     ]
    }
   ],
   "source": [
    "success = np.where(rolls == 6, 1, 0)\n",
    "print(success)"
   ]
  },
  {
   "cell_type": "markdown",
   "metadata": {},
   "source": [
    "⌨ Sum `success` along the row dimension to get the number of successes per experiment, assign the result to `k`:"
   ]
  },
  {
   "cell_type": "code",
   "execution_count": 126,
   "metadata": {},
   "outputs": [
    {
     "name": "stdout",
     "output_type": "stream",
     "text": [
      "[3 2 4 ... 1 1 2]\n"
     ]
    }
   ],
   "source": [
    "k = success.sum(1)\n",
    "print(k)"
   ]
  },
  {
   "cell_type": "markdown",
   "metadata": {},
   "source": [
    "⌨ Use `==` and `np.sum` to obtain the count of experiments that had exactly `3` successes:"
   ]
  },
  {
   "cell_type": "code",
   "execution_count": 127,
   "metadata": {},
   "outputs": [
    {
     "name": "stdout",
     "output_type": "stream",
     "text": [
      "15635\n"
     ]
    }
   ],
   "source": [
    "three_six_count = np.sum(k == 3)\n",
    "print(three_six_count)"
   ]
  },
  {
   "cell_type": "markdown",
   "metadata": {},
   "source": [
    "⌨ Compute the probability of three `6` in `10` rolls:"
   ]
  },
  {
   "cell_type": "code",
   "execution_count": 128,
   "metadata": {},
   "outputs": [
    {
     "name": "stdout",
     "output_type": "stream",
     "text": [
      "1.5635\n"
     ]
    }
   ],
   "source": [
    "p = three_six_count/10000\n",
    "print(p)"
   ]
  },
  {
   "cell_type": "markdown",
   "metadata": {},
   "source": [
    "##### Theoretical probability"
   ]
  },
  {
   "cell_type": "markdown",
   "metadata": {},
   "source": [
    "⌨ Compute what is the probability of observing three `6` in the same roll of `10` dice.\n",
    "\n",
    "> $X \\sim \\text{Binom}(N=10,p=1/6)$\n",
    "\n",
    "> $\\Pr(X = k) = \\binom{N}{k}p^k(1-p)^{N-k}$\n",
    "\n",
    "> $\\Pr(X=3)$ ?\n",
    "\n",
    "> Use `F.binom(N,k)` to compute the binomial coefficient"
   ]
  },
  {
   "cell_type": "code",
   "execution_count": 129,
   "metadata": {},
   "outputs": [],
   "source": [
    "import scipy.special as F"
   ]
  },
  {
   "cell_type": "code",
   "execution_count": 130,
   "metadata": {},
   "outputs": [
    {
     "data": {
      "text/plain": [
       "0.15504535957425192"
      ]
     },
     "execution_count": 130,
     "metadata": {},
     "output_type": "execute_result"
    }
   ],
   "source": [
    "F.binom(10,3)*(1/6)**3*(1-1/6)**7"
   ]
  },
  {
   "cell_type": "markdown",
   "metadata": {},
   "source": [
    "_Repeat the experiment with `10,000` and `100,000` samples. Note how the observed probability gets closer to the actual one._"
   ]
  },
  {
   "cell_type": "markdown",
   "metadata": {},
   "source": [
    "### 3.3. How many trials to get at least five `6` in a roll of `10` dice?"
   ]
  },
  {
   "cell_type": "markdown",
   "metadata": {},
   "source": [
    "##### Empirical observation using numpy"
   ]
  },
  {
   "cell_type": "markdown",
   "metadata": {},
   "source": [
    "⌨ Create a function that rolls 10 dice until at least five `6` appear in the same roll and returns the number of rolls employed.\n",
    "\n",
    "> Prototype: `def num_rolls()`\n",
    "\n",
    "> Returns: Number of attempts before at least five `6` appeared in a `10` dice roll."
   ]
  },
  {
   "cell_type": "code",
   "execution_count": 132,
   "metadata": {},
   "outputs": [],
   "source": [
    "def num_rolls():\n",
    "    cnt = 1\n",
    "    while(True):\n",
    "        x = dice(10)\n",
    "        if np.sum(x==6) >= 5:\n",
    "            return cnt\n",
    "        cnt += 1"
   ]
  },
  {
   "cell_type": "markdown",
   "metadata": {},
   "source": [
    "⌨ Repeat `10,000` times the `num_rolls` experiment, store the reults in an array `l`:"
   ]
  },
  {
   "cell_type": "code",
   "execution_count": 133,
   "metadata": {},
   "outputs": [],
   "source": [
    "l = np.array([num_rolls() for _ in np.arange(10000)])"
   ]
  },
  {
   "cell_type": "markdown",
   "metadata": {},
   "source": [
    "⌨ Compute the mean of `l`:"
   ]
  },
  {
   "cell_type": "code",
   "execution_count": 135,
   "metadata": {},
   "outputs": [
    {
     "data": {
      "text/plain": [
       "65.5672"
      ]
     },
     "execution_count": 135,
     "metadata": {},
     "output_type": "execute_result"
    }
   ],
   "source": [
    "l.mean()"
   ]
  },
  {
   "cell_type": "markdown",
   "metadata": {},
   "source": [
    "⌨ Plot the histogram of `l`:"
   ]
  },
  {
   "cell_type": "code",
   "execution_count": 136,
   "metadata": {},
   "outputs": [
    {
     "data": {
      "text/plain": [
       "(array([1.664e+03, 1.357e+03, 1.036e+03, 1.032e+03, 8.510e+02, 6.410e+02,\n",
       "        5.740e+02, 4.940e+02, 3.720e+02, 3.260e+02, 2.780e+02, 2.220e+02,\n",
       "        1.910e+02, 1.700e+02, 1.280e+02, 1.180e+02, 8.600e+01, 6.000e+01,\n",
       "        7.300e+01, 6.800e+01, 4.200e+01, 3.900e+01, 3.200e+01, 1.800e+01,\n",
       "        2.400e+01, 2.300e+01, 1.100e+01, 1.400e+01, 9.000e+00, 9.000e+00,\n",
       "        7.000e+00, 3.000e+00, 4.000e+00, 5.000e+00, 3.000e+00, 5.000e+00,\n",
       "        2.000e+00, 2.000e+00, 1.000e+00, 2.000e+00, 0.000e+00, 0.000e+00,\n",
       "        0.000e+00, 1.000e+00, 0.000e+00, 0.000e+00, 1.000e+00, 0.000e+00,\n",
       "        1.000e+00, 1.000e+00]),\n",
       " array([  1.  ,  12.66,  24.32,  35.98,  47.64,  59.3 ,  70.96,  82.62,\n",
       "         94.28, 105.94, 117.6 , 129.26, 140.92, 152.58, 164.24, 175.9 ,\n",
       "        187.56, 199.22, 210.88, 222.54, 234.2 , 245.86, 257.52, 269.18,\n",
       "        280.84, 292.5 , 304.16, 315.82, 327.48, 339.14, 350.8 , 362.46,\n",
       "        374.12, 385.78, 397.44, 409.1 , 420.76, 432.42, 444.08, 455.74,\n",
       "        467.4 , 479.06, 490.72, 502.38, 514.04, 525.7 , 537.36, 549.02,\n",
       "        560.68, 572.34, 584.  ]),\n",
       " <a list of 50 Patch objects>)"
      ]
     },
     "execution_count": 136,
     "metadata": {},
     "output_type": "execute_result"
    },
    {
     "data": {
      "image/png": "[encoded data removed]",
      "text/plain": [
       "<Figure size 432x288 with 1 Axes>"
      ]
     },
     "metadata": {
      "needs_background": "light"
     },
     "output_type": "display_data"
    }
   ],
   "source": [
    "plt.hist(l,bins=50)"
   ]
  },
  {
   "cell_type": "markdown",
   "metadata": {},
   "source": [
    "##### Theoretical number of trials\n",
    "\n",
    "⌨ What is the probability of getting at least five `6` in `10` dice:\n",
    "\n",
    "> $X \\sim \\text{Binom}(N=10, p=1/6)$\n",
    "\n",
    "> $\\Pr(X = k) = \\binom{N}{k}p^k(1-p)^{N-k}$\n",
    "\n",
    "> $\\Pr(X \\ge 5)$ ?\n",
    "\n",
    "> Hint: use `sts.binom.cdf(k,n,p)`"
   ]
  },
  {
   "cell_type": "code",
   "execution_count": 139,
   "metadata": {},
   "outputs": [],
   "source": [
    "import scipy.stats as sts"
   ]
  },
  {
   "cell_type": "code",
   "execution_count": 140,
   "metadata": {},
   "outputs": [
    {
     "name": "stdout",
     "output_type": "stream",
     "text": [
      "0.015461966703500418\n"
     ]
    }
   ],
   "source": [
    "prob_at_least_five = 1-sts.binom.cdf(k=4,n=10,p=1/6)\n",
    "print(prob_at_least_five)"
   ]
  },
  {
   "cell_type": "markdown",
   "metadata": {},
   "source": [
    "⌨ How many trials ($L$) before we get at least five `6` in the same `10` dice roll?\n",
    "\n",
    "> $L \\sim \\text{Geometric}(p=0.01546)$\n",
    "\n",
    "> $\\text{E}[L] = 1/p$"
   ]
  },
  {
   "cell_type": "code",
   "execution_count": 138,
   "metadata": {
    "scrolled": true
   },
   "outputs": [
    {
     "data": {
      "text/plain": [
       "64.67482560117084"
      ]
     },
     "execution_count": 138,
     "metadata": {},
     "output_type": "execute_result"
    }
   ],
   "source": [
    "1/prob_at_least_five"
   ]
  },
  {
   "cell_type": "markdown",
   "metadata": {},
   "source": [
    "---"
   ]
  }
 ],
 "metadata": {
  "kernelspec": {
   "display_name": "Python 3",
   "language": "python",
   "name": "python3"
  },
  "language_info": {
   "codemirror_mode": {
    "name": "ipython",
    "version": 3
   },
   "file_extension": ".py",
   "mimetype": "text/x-python",
   "name": "python",
   "nbconvert_exporter": "python",
   "pygments_lexer": "ipython3",
   "version": "3.7.1"
  }
 },
 "nbformat": 4,
 "nbformat_minor": 2
}
