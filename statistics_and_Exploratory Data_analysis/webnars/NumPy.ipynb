{
 "cells": [
  {
   "cell_type": "markdown",
   "metadata": {},
   "source": [
    "# Week 12 - NumPy for data analysis and visualization\n",
    "## _Introduction to NumPy_\n",
    "Author: _Eduard Valera Zorita (Emeritus Institute of Management)_"
   ]
  },
  {
   "cell_type": "markdown",
   "metadata": {},
   "source": [
    "**Contents:**\n",
    "\n",
    "[1. NumPy arrays](#1.-NumPy-arrays)\n",
    "\n",
    "\n",
    "[2. NumPy random library](#2.-NumPy-random)\n",
    "\n",
    "\n",
    "[3. Examples](#3.-Examples)"
   ]
  },
  {
   "cell_type": "markdown",
   "metadata": {},
   "source": [
    "## 1. NumPy arrays\n",
    "### 1.1. NumPy 1-D arrays"
   ]
  },
  {
   "cell_type": "code",
   "execution_count": null,
   "metadata": {},
   "outputs": [],
   "source": [
    "import numpy as np"
   ]
  },
  {
   "cell_type": "markdown",
   "metadata": {},
   "source": [
    "⌨ Create a 1-D array with values `[1,2,3,4]`:"
   ]
  },
  {
   "cell_type": "code",
   "execution_count": null,
   "metadata": {},
   "outputs": [],
   "source": []
  },
  {
   "cell_type": "markdown",
   "metadata": {},
   "source": [
    "⌨ Create a 1-D array of size `10`, initialize to `0`:"
   ]
  },
  {
   "cell_type": "code",
   "execution_count": null,
   "metadata": {},
   "outputs": [],
   "source": []
  },
  {
   "cell_type": "markdown",
   "metadata": {},
   "source": [
    "⌨ Create a 1-D array of size 4, initialize to `1`:"
   ]
  },
  {
   "cell_type": "code",
   "execution_count": null,
   "metadata": {},
   "outputs": [],
   "source": []
  },
  {
   "cell_type": "markdown",
   "metadata": {},
   "source": [
    "⌨ Create a 1-D array containing the range from `0` to `23`, assign to `x`:\n",
    "> **Hint**: use `np.arange()`"
   ]
  },
  {
   "cell_type": "code",
   "execution_count": null,
   "metadata": {},
   "outputs": [],
   "source": []
  },
  {
   "cell_type": "markdown",
   "metadata": {},
   "source": [
    "⌨ Compute the mean of `x`:"
   ]
  },
  {
   "cell_type": "code",
   "execution_count": null,
   "metadata": {},
   "outputs": [],
   "source": []
  },
  {
   "cell_type": "markdown",
   "metadata": {},
   "source": [
    "⌨ Compute the standard deviation of `x`:"
   ]
  },
  {
   "cell_type": "code",
   "execution_count": null,
   "metadata": {},
   "outputs": [],
   "source": []
  },
  {
   "cell_type": "markdown",
   "metadata": {},
   "source": [
    "⌨ Add `2` to all elements of `x`, assign the result to `y`:"
   ]
  },
  {
   "cell_type": "code",
   "execution_count": null,
   "metadata": {},
   "outputs": [],
   "source": []
  },
  {
   "cell_type": "markdown",
   "metadata": {},
   "source": [
    "⌨ Add `1` to the odd elements of `x`, subtract `1` from the even elements of `x`:\n",
    "> **Hint**: use `np.where()`"
   ]
  },
  {
   "cell_type": "code",
   "execution_count": null,
   "metadata": {},
   "outputs": [],
   "source": []
  },
  {
   "cell_type": "markdown",
   "metadata": {},
   "source": [
    "### 1.2. NumPy n-D arrays"
   ]
  },
  {
   "cell_type": "markdown",
   "metadata": {},
   "source": [
    "⌨ Create a 1-D array containing the range from `0` to `23`, assign to `X`:"
   ]
  },
  {
   "cell_type": "code",
   "execution_count": null,
   "metadata": {},
   "outputs": [],
   "source": []
  },
  {
   "cell_type": "markdown",
   "metadata": {},
   "source": [
    "⌨ Create a 2-D array from `X` with shape `(4,6)`, reassign to `X`:\n",
    "> **Hint**: Use `np.reshape()`"
   ]
  },
  {
   "cell_type": "code",
   "execution_count": null,
   "metadata": {},
   "outputs": [],
   "source": []
  },
  {
   "cell_type": "markdown",
   "metadata": {},
   "source": [
    "⌨ Compute the overall mean of `X`:"
   ]
  },
  {
   "cell_type": "code",
   "execution_count": null,
   "metadata": {},
   "outputs": [],
   "source": []
  },
  {
   "cell_type": "markdown",
   "metadata": {},
   "source": [
    "⌨ Compute the mean of the rows of `X`:\n",
    "> **Hint:** use `array.mean(dim)`"
   ]
  },
  {
   "cell_type": "code",
   "execution_count": null,
   "metadata": {},
   "outputs": [],
   "source": []
  },
  {
   "cell_type": "markdown",
   "metadata": {},
   "source": [
    "⌨ Compute the mean of the columns of `X`:"
   ]
  },
  {
   "cell_type": "code",
   "execution_count": null,
   "metadata": {},
   "outputs": [],
   "source": []
  },
  {
   "cell_type": "markdown",
   "metadata": {},
   "source": [
    "⌨ Create a new column with values `[0,1,2,3]`, append the column to `X`:\n",
    "> **Hint:** use `np.concatenate((x,y), dim)`, use `array.reshape()` to match the dimensions."
   ]
  },
  {
   "cell_type": "code",
   "execution_count": null,
   "metadata": {},
   "outputs": [],
   "source": []
  },
  {
   "cell_type": "markdown",
   "metadata": {},
   "source": [
    "⌨ Create a new row with values `[0,1,2,3,4,5,6]`, append the row to `X`:"
   ]
  },
  {
   "cell_type": "code",
   "execution_count": null,
   "metadata": {},
   "outputs": [],
   "source": []
  },
  {
   "cell_type": "markdown",
   "metadata": {},
   "source": [
    "⌨ Print the 1st, 3rd and 5th column of `X`:"
   ]
  },
  {
   "cell_type": "code",
   "execution_count": null,
   "metadata": {},
   "outputs": [],
   "source": []
  },
  {
   "cell_type": "markdown",
   "metadata": {},
   "source": [
    "⌨ Print the last 2 rows of `X`:"
   ]
  },
  {
   "cell_type": "code",
   "execution_count": null,
   "metadata": {},
   "outputs": [],
   "source": []
  },
  {
   "cell_type": "markdown",
   "metadata": {},
   "source": [
    "⌨ Set all the odd values of `X` to `0`:\n",
    "> **Hint:** use `np.where(condition, true_replace, false_replace)`"
   ]
  },
  {
   "cell_type": "code",
   "execution_count": null,
   "metadata": {},
   "outputs": [],
   "source": []
  },
  {
   "cell_type": "markdown",
   "metadata": {},
   "source": [
    "## 2. NumPy random\n",
    "### 2.1. Random numbers\n",
    "#### 2.1.1. Generate random integers\n",
    "- `np.random.randint(range, size=1)`\n",
    "\n",
    "> `range` is either an integer `max` or two arguments `min,max`"
   ]
  },
  {
   "cell_type": "markdown",
   "metadata": {},
   "source": [
    "⌨ Sample a random integer between `0` and `99`:"
   ]
  },
  {
   "cell_type": "code",
   "execution_count": null,
   "metadata": {},
   "outputs": [],
   "source": []
  },
  {
   "cell_type": "markdown",
   "metadata": {},
   "source": [
    "⌨ Sample `50` random integers between `0` and `9` (both included):"
   ]
  },
  {
   "cell_type": "code",
   "execution_count": null,
   "metadata": {},
   "outputs": [],
   "source": []
  },
  {
   "cell_type": "markdown",
   "metadata": {},
   "source": [
    "⌨ Sample `50` random integers between `20` and `80` (both included):"
   ]
  },
  {
   "cell_type": "code",
   "execution_count": null,
   "metadata": {},
   "outputs": [],
   "source": []
  },
  {
   "cell_type": "markdown",
   "metadata": {},
   "source": [
    "#### 2.1.2. Random choices\n",
    "- `np.random.choice(values, size=1, replace=True, p=uniform)`\n",
    "\n",
    "> `values` is either an array/list or an integer (range).\n",
    "\n",
    "> `p` is the same size of value and set the probability for each element (uniform if not set)\n"
   ]
  },
  {
   "cell_type": "markdown",
   "metadata": {},
   "source": [
    "⌨ Choose `5` integers between `0` and `9` with replacement:"
   ]
  },
  {
   "cell_type": "code",
   "execution_count": null,
   "metadata": {},
   "outputs": [],
   "source": []
  },
  {
   "cell_type": "markdown",
   "metadata": {},
   "source": [
    "⌨ Choose `3` integers from `[1,3,5,7,9]` without replacement:"
   ]
  },
  {
   "cell_type": "code",
   "execution_count": null,
   "metadata": {},
   "outputs": [],
   "source": []
  },
  {
   "cell_type": "markdown",
   "metadata": {},
   "source": [
    "---"
   ]
  },
  {
   "cell_type": "markdown",
   "metadata": {},
   "source": [
    "### 2.2. Sampling distributions"
   ]
  },
  {
   "cell_type": "code",
   "execution_count": null,
   "metadata": {},
   "outputs": [],
   "source": [
    "import matplotlib.pyplot as plt"
   ]
  },
  {
   "cell_type": "markdown",
   "metadata": {},
   "source": [
    "#### 2.2.1. Normal distribution"
   ]
  },
  {
   "cell_type": "markdown",
   "metadata": {},
   "source": [
    "$\\mathcal{f_x}(\\mu,\\sigma) = \\frac{1}{\\sqrt{2\\pi}\\sigma}e^{-\\frac{(x-\\mu)^2}{2\\sigma^2}}$"
   ]
  },
  {
   "cell_type": "markdown",
   "metadata": {},
   "source": [
    "- `np.random.normal(mu, sigma, size=1)`\n",
    "\n",
    "> `mu`: expected value\n",
    "\n",
    "> `sigma`: standard deviation"
   ]
  },
  {
   "cell_type": "markdown",
   "metadata": {},
   "source": [
    "⌨ Generate `10000` samples from $X\\sim \\mathcal{N}(0,1)$:"
   ]
  },
  {
   "cell_type": "code",
   "execution_count": null,
   "metadata": {},
   "outputs": [],
   "source": []
  },
  {
   "cell_type": "markdown",
   "metadata": {},
   "source": [
    "⌨ Compute the mean and the standard deviation of the sample:"
   ]
  },
  {
   "cell_type": "code",
   "execution_count": null,
   "metadata": {},
   "outputs": [],
   "source": []
  },
  {
   "cell_type": "markdown",
   "metadata": {},
   "source": [
    "⌨ Plot the histogram of the sample with 100 bins:\n",
    "\n",
    "> Use `plt.hist(sample, bins=100)`"
   ]
  },
  {
   "cell_type": "code",
   "execution_count": null,
   "metadata": {},
   "outputs": [],
   "source": []
  },
  {
   "cell_type": "markdown",
   "metadata": {},
   "source": [
    "#### 2.2.2. Binomial distribution\n",
    "_The probability of $k$ successes within $N$ trials_"
   ]
  },
  {
   "cell_type": "markdown",
   "metadata": {},
   "source": [
    "$\\Pr(X = k) = \\binom{N}{k}p^k(1-p)^{N-k}$"
   ]
  },
  {
   "cell_type": "markdown",
   "metadata": {},
   "source": [
    "- `np.random.binomial(N, p, size=1)`\n",
    "\n",
    "> `N`: number of trials\n",
    "\n",
    "> `p`: probability of success"
   ]
  },
  {
   "cell_type": "markdown",
   "metadata": {},
   "source": [
    "⌨ Generate `10,000` binomial samples of `N=10` trials and probability of success `p=0.3`:"
   ]
  },
  {
   "cell_type": "code",
   "execution_count": null,
   "metadata": {},
   "outputs": [],
   "source": []
  },
  {
   "cell_type": "markdown",
   "metadata": {},
   "source": [
    "\n",
    "⌨ Compute the mean and the standard deviation. Compare with $\\text{E}[X] = np$ and $\\sigma_x = \\sqrt{np(1-p)}$."
   ]
  },
  {
   "cell_type": "code",
   "execution_count": null,
   "metadata": {},
   "outputs": [],
   "source": []
  },
  {
   "cell_type": "code",
   "execution_count": null,
   "metadata": {},
   "outputs": [],
   "source": []
  },
  {
   "cell_type": "markdown",
   "metadata": {},
   "source": [
    "⌨ Plot the histogram of the sample with 10 bins:"
   ]
  },
  {
   "cell_type": "code",
   "execution_count": null,
   "metadata": {},
   "outputs": [],
   "source": []
  },
  {
   "cell_type": "markdown",
   "metadata": {},
   "source": [
    "#### 2.2.3. Geometric distribution\n",
    "_The probability of $k$ attempts before success_"
   ]
  },
  {
   "cell_type": "markdown",
   "metadata": {},
   "source": [
    "$\\Pr(X = k) = p(1-p)^{k-1}$"
   ]
  },
  {
   "cell_type": "markdown",
   "metadata": {},
   "source": [
    "- `np.random.geometric(p, size=1)`\n",
    "\n",
    "> `p`: probability of success"
   ]
  },
  {
   "cell_type": "markdown",
   "metadata": {},
   "source": [
    "⌨ Generate `10,000` geometric samples with probability of success `p=0.1`:"
   ]
  },
  {
   "cell_type": "code",
   "execution_count": null,
   "metadata": {},
   "outputs": [],
   "source": []
  },
  {
   "cell_type": "markdown",
   "metadata": {},
   "source": [
    "⌨ Compute the mean and the standard deviation of the sample. Compare with $\\text{E}[X] = 1/p$ and $\\sigma_X = \\sqrt{\\frac{1-p}{p^2}}$."
   ]
  },
  {
   "cell_type": "code",
   "execution_count": null,
   "metadata": {},
   "outputs": [],
   "source": []
  },
  {
   "cell_type": "markdown",
   "metadata": {},
   "source": [
    "⌨ Plot the histogram of the sample with 100 bins:"
   ]
  },
  {
   "cell_type": "code",
   "execution_count": null,
   "metadata": {},
   "outputs": [],
   "source": []
  },
  {
   "cell_type": "markdown",
   "metadata": {},
   "source": [
    "#### 2.2.4. Other distributions\n",
    "- Exponential: `np.random.exponential(lambda, size=1)`\n",
    "- Poisson: `np.random.poisson(lambda, size=1)`"
   ]
  },
  {
   "cell_type": "markdown",
   "metadata": {},
   "source": [
    "---"
   ]
  },
  {
   "cell_type": "markdown",
   "metadata": {},
   "source": [
    "## 3. Examples"
   ]
  },
  {
   "cell_type": "markdown",
   "metadata": {},
   "source": [
    "### 3.1. Solve a linear equation system"
   ]
  },
  {
   "cell_type": "markdown",
   "metadata": {},
   "source": [
    "$$\n",
    "\\begin{array}\n",
    "5x+3y+2z & = & 19 \\\\\n",
    "-x+9y-4z & = & -1 \\\\\n",
    "x+y+8z & = & 23\n",
    "\\end{array}\n",
    "$$"
   ]
  },
  {
   "cell_type": "markdown",
   "metadata": {},
   "source": [
    "In matrix notation:"
   ]
  },
  {
   "cell_type": "markdown",
   "metadata": {},
   "source": [
    "$$\n",
    "\\begin{pmatrix}\n",
    "1 & 3 & 2 \\\\\n",
    "-1 & 9 & -4 \\\\\n",
    "1 & 1 & 8\n",
    "\\end{pmatrix}\n",
    "\\left(\n",
    "\\begin{array}\n",
    "1x \\\\\n",
    "y \\\\\n",
    "z\n",
    "\\end{array}\n",
    "\\right)\n",
    "=\n",
    "\\left(\n",
    "\\begin{array}\n",
    "019 \\\\\n",
    "-1 \\\\\n",
    "23\n",
    "\\end{array}\n",
    "\\right)\n",
    "$$"
   ]
  },
  {
   "cell_type": "markdown",
   "metadata": {},
   "source": [
    "The system can be solved by matrix inversion:"
   ]
  },
  {
   "cell_type": "markdown",
   "metadata": {},
   "source": [
    "$$\n",
    "\\left(\n",
    "\\begin{array}\n",
    "1x \\\\\n",
    "y \\\\\n",
    "z\n",
    "\\end{array}\n",
    "\\right)\n",
    "=\n",
    "\\begin{pmatrix}\n",
    "1 & 3 & 2 \\\\\n",
    "-1 & 9 & -4 \\\\\n",
    "1 & 1 & 8\n",
    "\\end{pmatrix}^{-1}\n",
    "\\left(\n",
    "\\begin{array}\n",
    "019 \\\\\n",
    "-1 \\\\\n",
    "23\n",
    "\\end{array}\n",
    "\\right)\n",
    "$$"
   ]
  },
  {
   "cell_type": "markdown",
   "metadata": {},
   "source": [
    "⌨ Create a numpy array that represents the system matrix, assign to `M`:"
   ]
  },
  {
   "cell_type": "code",
   "execution_count": null,
   "metadata": {},
   "outputs": [],
   "source": []
  },
  {
   "cell_type": "markdown",
   "metadata": {},
   "source": [
    "⌨ Create the scalar vector, assign to `S`:"
   ]
  },
  {
   "cell_type": "code",
   "execution_count": null,
   "metadata": {},
   "outputs": [],
   "source": []
  },
  {
   "cell_type": "markdown",
   "metadata": {},
   "source": [
    "⌨ Solve the system using matrix inversion and matrix dot product:\n",
    "\n",
    "> To invert a matrix, use: `np.linalg.inv(X)`\n",
    "\n",
    "> For matrix multiplication, use: `np.dot(A,B)`"
   ]
  },
  {
   "cell_type": "code",
   "execution_count": null,
   "metadata": {},
   "outputs": [],
   "source": []
  },
  {
   "cell_type": "markdown",
   "metadata": {},
   "source": [
    "### 3.2. Probability of three `6` in a roll of `10` dice?"
   ]
  },
  {
   "cell_type": "markdown",
   "metadata": {},
   "source": [
    "⌨ Define a function that returns the result of rolling a fair dice:\n",
    "\n",
    "> Prototype: `def dice(N)`\n",
    "\n",
    "> Returns: a `numpy.array` containing `N` independent dice rolls (integer from 1 to 6)."
   ]
  },
  {
   "cell_type": "code",
   "execution_count": null,
   "metadata": {},
   "outputs": [],
   "source": [
    "def dice(N):\n",
    "    return np.random.randint(1,7,size=N)"
   ]
  },
  {
   "cell_type": "markdown",
   "metadata": {},
   "source": [
    "##### Empirical observation using numpy"
   ]
  },
  {
   "cell_type": "markdown",
   "metadata": {},
   "source": [
    "⌨ Roll `10` dice a thousand times. Store the result in a `1000x10` array, where the columns denote the dice rolls of each experiment."
   ]
  },
  {
   "cell_type": "code",
   "execution_count": null,
   "metadata": {},
   "outputs": [],
   "source": []
  },
  {
   "cell_type": "markdown",
   "metadata": {},
   "source": [
    "⌨ Use `np.where()` to convert `6` to `1` and the rest to `0`, assign the result to `success`:"
   ]
  },
  {
   "cell_type": "code",
   "execution_count": null,
   "metadata": {},
   "outputs": [],
   "source": []
  },
  {
   "cell_type": "markdown",
   "metadata": {},
   "source": [
    "⌨ Sum `success` along the row dimension to get the number of successes per experiment, assign the result to `k`:"
   ]
  },
  {
   "cell_type": "code",
   "execution_count": null,
   "metadata": {},
   "outputs": [],
   "source": []
  },
  {
   "cell_type": "markdown",
   "metadata": {},
   "source": [
    "⌨ Use `==` and `np.sum` to obtain the count of experiments that had exactly `3` successes:"
   ]
  },
  {
   "cell_type": "code",
   "execution_count": null,
   "metadata": {},
   "outputs": [],
   "source": []
  },
  {
   "cell_type": "markdown",
   "metadata": {},
   "source": [
    "⌨ Compute the probability of three `6` in `10` rolls:"
   ]
  },
  {
   "cell_type": "code",
   "execution_count": null,
   "metadata": {},
   "outputs": [],
   "source": []
  },
  {
   "cell_type": "markdown",
   "metadata": {},
   "source": [
    "##### Theoretical probability"
   ]
  },
  {
   "cell_type": "markdown",
   "metadata": {},
   "source": [
    "⌨ Compute what is the probability of observing three `6` in the same roll of `10` dice.\n",
    "\n",
    "> $X \\sim \\text{Binom}(N=10,p=1/6)$\n",
    "\n",
    "> $\\Pr(X = k) = \\binom{N}{k}p^k(1-p)^{N-k}$\n",
    "\n",
    "> $\\Pr(X=3)$ ?\n",
    "\n",
    "> Use `F.binom(N,k)` to compute the binomial coefficient"
   ]
  },
  {
   "cell_type": "code",
   "execution_count": null,
   "metadata": {},
   "outputs": [],
   "source": [
    "import scipy.special as F"
   ]
  },
  {
   "cell_type": "code",
   "execution_count": null,
   "metadata": {},
   "outputs": [],
   "source": []
  },
  {
   "cell_type": "markdown",
   "metadata": {},
   "source": [
    "_Repeat the experiment with `10,000` and `100,000` samples. Note how the observed probability gets closer to the actual one._"
   ]
  },
  {
   "cell_type": "markdown",
   "metadata": {},
   "source": [
    "### 3.3. How many trials to get at least five `6` in a roll of `10` dice?"
   ]
  },
  {
   "cell_type": "markdown",
   "metadata": {},
   "source": [
    "##### Empirical observation using numpy"
   ]
  },
  {
   "cell_type": "markdown",
   "metadata": {},
   "source": [
    "⌨ Create a function that rolls 10 dice until at least five `6` appear in the same roll and returns the number of rolls employed.\n",
    "\n",
    "> Prototype: `def num_rolls()`\n",
    "\n",
    "> Returns: Number of attempts before at least five `6` appeared in a `10` dice roll."
   ]
  },
  {
   "cell_type": "code",
   "execution_count": null,
   "metadata": {},
   "outputs": [],
   "source": [
    "def num_rolls():\n",
    "    cnt = 1\n",
    "    while(True):\n",
    "        x = dice(10)\n",
    "        if np.sum(x==6) >= 5:\n",
    "            return cnt\n",
    "        cnt += 1"
   ]
  },
  {
   "cell_type": "markdown",
   "metadata": {},
   "source": [
    "⌨ Repeat `10,000` times the `num_rolls` experiment, store the reults in an array `l`:"
   ]
  },
  {
   "cell_type": "code",
   "execution_count": null,
   "metadata": {},
   "outputs": [],
   "source": []
  },
  {
   "cell_type": "markdown",
   "metadata": {},
   "source": [
    "⌨ Compute the mean of `l`:"
   ]
  },
  {
   "cell_type": "code",
   "execution_count": null,
   "metadata": {},
   "outputs": [],
   "source": []
  },
  {
   "cell_type": "markdown",
   "metadata": {},
   "source": [
    "⌨ Plot the histogram of `l`:"
   ]
  },
  {
   "cell_type": "code",
   "execution_count": null,
   "metadata": {},
   "outputs": [],
   "source": []
  },
  {
   "cell_type": "markdown",
   "metadata": {},
   "source": [
    "##### Theoretical number of trials\n",
    "\n",
    "⌨ What is the probability of getting at least five `6` in `10` dice:\n",
    "\n",
    "> $X \\sim \\text{Binom}(N=10, p=1/6)$\n",
    "\n",
    "> $\\Pr(X = k) = \\binom{N}{k}p^k(1-p)^{N-k}$\n",
    "\n",
    "> $\\Pr(X \\ge 5)$ ?\n",
    "\n",
    "> Hint: use `sts.binom.cdf(k,n,p)`"
   ]
  },
  {
   "cell_type": "code",
   "execution_count": 1,
   "metadata": {},
   "outputs": [],
   "source": [
    "import scipy.stats as sts"
   ]
  },
  {
   "cell_type": "code",
   "execution_count": null,
   "metadata": {},
   "outputs": [],
   "source": []
  },
  {
   "cell_type": "markdown",
   "metadata": {},
   "source": [
    "⌨ How many trials ($L$) before we get at least five `6` in the same `10` dice roll?\n",
    "\n",
    "> $L \\sim \\text{Geometric}(p=0.01546)$\n",
    "\n",
    "> $\\text{E}[L] = 1/p$"
   ]
  },
  {
   "cell_type": "code",
   "execution_count": null,
   "metadata": {
    "scrolled": true
   },
   "outputs": [],
   "source": []
  },
  {
   "cell_type": "markdown",
   "metadata": {},
   "source": [
    "---"
   ]
  }
 ],
 "metadata": {
  "kernelspec": {
   "display_name": "Python 3",
   "language": "python",
   "name": "python3"
  },
  "language_info": {
   "codemirror_mode": {
    "name": "ipython",
    "version": 3
   },
   "file_extension": ".py",
   "mimetype": "text/x-python",
   "name": "python",
   "nbconvert_exporter": "python",
   "pygments_lexer": "ipython3",
   "version": "3.7.1"
  }
 },
 "nbformat": 4,
 "nbformat_minor": 2
}
